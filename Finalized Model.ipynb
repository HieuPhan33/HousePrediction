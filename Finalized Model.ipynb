{
 "cells": [
  {
   "cell_type": "code",
   "execution_count": 1,
   "metadata": {},
   "outputs": [],
   "source": [
    "import numpy as np  # linear algebra\n",
    "import pandas as pd  #\n",
    "import matplotlib.pyplot as plt  # Matlab-style plotting\n",
    "import seaborn as sns\n",
    "color = sns.color_palette()\n",
    "sns.set_style('darkgrid')\n",
    "from datetime import datetime\n",
    "import warnings\n",
    "def ignore_warn(*args, **kwargs):\n",
    "    pass\n",
    "warnings.warn = ignore_warn #ignore annoying warning (from sklearn and seaborn)\n",
    "\n",
    "from sklearn.linear_model import LassoCV, RidgeCV, Lasso\n",
    "from sklearn.model_selection import GridSearchCV\n",
    "from sklearn.model_selection import learning_curve\n",
    "from sklearn.kernel_ridge import KernelRidge\n",
    "from sklearn.preprocessing import RobustScaler\n",
    "from sklearn.model_selection import KFold, cross_val_score, train_test_split\n",
    "from sklearn.pipeline import make_pipeline\n",
    "from sklearn.metrics import mean_squared_error\n",
    "from sklearn.pipeline import Pipeline\n",
    "from sklearn import linear_model"
   ]
  },
  {
   "cell_type": "code",
   "execution_count": 2,
   "metadata": {},
   "outputs": [],
   "source": [
    "train = pd.read_csv('preprocessed_train.csv')\n",
    "test = pd.read_csv('preprocessed_test.csv')\n",
    "X_train = train.drop(columns=\"SalePrice\")\n",
    "y_train = train[\"SalePrice\"]"
   ]
  },
  {
   "cell_type": "code",
   "execution_count": 3,
   "metadata": {},
   "outputs": [],
   "source": [
    "kfolds = KFold(n_splits=10, shuffle=True, random_state=42)\n",
    "scores = [\"neg_mean_squared_error\",\"neg_mean_absolute_error\",\"r2\"]\n",
    "def evaluate(model,scoring=scores):\n",
    "    results = cross_validate(model,X_train,y_train,scoring=scores,cv=kfolds)\n",
    "    for scorer in scoring:\n",
    "        for sample in ('train','test'):\n",
    "            sample_score_mean = np.mean(results['%s_%s' % (sample, scorer)])\n",
    "            print(sample,\"_\",scorer,\":\",sample_score_mean)\n",
    "from sklearn.model_selection import cross_validate"
   ]
  },
  {
   "cell_type": "markdown",
   "metadata": {},
   "source": [
    "### 1. Ordinary Least Square Regression"
   ]
  },
  {
   "cell_type": "code",
   "execution_count": 6,
   "metadata": {},
   "outputs": [
    {
     "name": "stdout",
     "output_type": "stream",
     "text": [
      "train _ neg_mean_squared_error : -0.0060405969440286205\n",
      "test _ neg_mean_squared_error : -40301366.22383566\n",
      "train _ neg_mean_absolute_error : -0.05655340698676685\n",
      "test _ neg_mean_absolute_error : -585.2459208985307\n",
      "train _ r2 : 0.9615862709873031\n",
      "test _ r2 : -277220278.62092805\n"
     ]
    }
   ],
   "source": [
    "ols = linear_model.LinearRegression()\n",
    "evaluate(ols)"
   ]
  },
  {
   "cell_type": "markdown",
   "metadata": {},
   "source": [
    "### 2. Lasso Regression"
   ]
  },
  {
   "cell_type": "code",
   "execution_count": 4,
   "metadata": {},
   "outputs": [
    {
     "name": "stdout",
     "output_type": "stream",
     "text": [
      "train _ neg_mean_squared_error : -0.007759183950449574\n",
      "test _ neg_mean_squared_error : -0.009881712865149248\n",
      "train _ neg_mean_absolute_error : -0.0635066809186571\n",
      "test _ neg_mean_absolute_error : -0.07058320494146876\n",
      "train _ r2 : 0.9506528763490613\n",
      "test _ r2 : 0.9366805640996627\n"
     ]
    }
   ],
   "source": [
    "lasso = Pipeline([\n",
    "    ('rs',RobustScaler()),\n",
    "    ('ls',Lasso(max_iter=1e5,alpha=0.0004378391959798995))\n",
    "])\n",
    "evaluate(lasso)"
   ]
  },
  {
   "cell_type": "markdown",
   "metadata": {},
   "source": [
    "### 3. Ridge Regression"
   ]
  },
  {
   "cell_type": "markdown",
   "metadata": {},
   "source": [
    "#### 3.1 Linear Ridge"
   ]
  },
  {
   "cell_type": "code",
   "execution_count": 7,
   "metadata": {},
   "outputs": [
    {
     "name": "stdout",
     "output_type": "stream",
     "text": [
      "train _ neg_mean_squared_error : -0.007135290333751466\n",
      "test _ neg_mean_squared_error : -0.010299395355000178\n",
      "train _ neg_mean_absolute_error : -0.06083003155738396\n",
      "test _ neg_mean_absolute_error : -0.07159895320228812\n",
      "train _ r2 : 0.9546244073860496\n",
      "test _ r2 : 0.9340491575799266\n"
     ]
    }
   ],
   "source": [
    "kr_linear = KernelRidge(kernel=\"linear\",alpha=9.115577889447236)\n",
    "evaluate(kr_linear)"
   ]
  },
  {
   "cell_type": "markdown",
   "metadata": {},
   "source": [
    "#### 3.2 RBF Kernel Ridge"
   ]
  },
  {
   "cell_type": "code",
   "execution_count": 7,
   "metadata": {},
   "outputs": [
    {
     "name": "stdout",
     "output_type": "stream",
     "text": [
      "train _ neg_mean_squared_error : -0.004718194401709781\n",
      "test _ neg_mean_squared_error : -0.013038441067275416\n",
      "train _ neg_mean_absolute_error : -0.05073873897428318\n",
      "test _ neg_mean_absolute_error : -0.07897995133527586\n",
      "train _ r2 : 0.9699900878172654\n",
      "test _ r2 : 0.9173944829898476\n"
     ]
    }
   ],
   "source": [
    "kr_rbf = make_pipeline(\n",
    "    RobustScaler(),\n",
    "    KernelRidge(kernel=\"rbf\",gamma=0.000505050505050505,alpha=0.006122448979591837)\n",
    ")\n",
    "evaluate(kr_rbf)"
   ]
  },
  {
   "cell_type": "markdown",
   "metadata": {},
   "source": [
    "#### 3.3 Polynomial Kernel Ridge"
   ]
  },
  {
   "cell_type": "code",
   "execution_count": 9,
   "metadata": {},
   "outputs": [
    {
     "name": "stdout",
     "output_type": "stream",
     "text": [
      "train _ neg_mean_squared_error : -0.006022251875366477\n",
      "test _ neg_mean_squared_error : -0.010633828235980894\n",
      "train _ neg_mean_absolute_error : -0.05611683065044746\n",
      "test _ neg_mean_absolute_error : -0.0725701879002778\n",
      "train _ r2 : 0.9616945590050113\n",
      "test _ r2 : 0.9319289407290807\n"
     ]
    }
   ],
   "source": [
    "kr_poly = make_pipeline(\n",
    "    RobustScaler(),\n",
    "    KernelRidge(kernel=\"polynomial\",degree=2,gamma=0.00202020202020202,alpha=0.15142857142857144)\n",
    ")\n",
    "evaluate(kr_poly)"
   ]
  },
  {
   "cell_type": "markdown",
   "metadata": {},
   "source": [
    "#### 3.4 Sigmoid Kernel Ridge"
   ]
  },
  {
   "cell_type": "code",
   "execution_count": 10,
   "metadata": {},
   "outputs": [
    {
     "name": "stdout",
     "output_type": "stream",
     "text": [
      "train _ neg_mean_squared_error : -0.021206648545322785\n",
      "test _ neg_mean_squared_error : -0.021921074764629924\n",
      "train _ neg_mean_absolute_error : -0.10319695708392948\n",
      "test _ neg_mean_absolute_error : -0.1046544956966031\n",
      "train _ r2 : 0.8651268507558889\n",
      "test _ r2 : 0.8599174595201658\n"
     ]
    }
   ],
   "source": [
    "kr_sigmoid = make_pipeline(\n",
    "            RobustScaler(),\n",
    "            KernelRidge(kernel=\"sigmoid\",alpha=0.5858585858585859,gamma=0.0010050251256281408)\n",
    ")\n",
    "evaluate(kr_sigmoid)"
   ]
  }
 ],
 "metadata": {
  "kernelspec": {
   "display_name": "Python 3",
   "language": "python",
   "name": "python3"
  },
  "language_info": {
   "codemirror_mode": {
    "name": "ipython",
    "version": 3
   },
   "file_extension": ".py",
   "mimetype": "text/x-python",
   "name": "python",
   "nbconvert_exporter": "python",
   "pygments_lexer": "ipython3",
   "version": "3.7.0"
  }
 },
 "nbformat": 4,
 "nbformat_minor": 2
}
